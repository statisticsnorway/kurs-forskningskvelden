{
 "cells": [
  {
   "cell_type": "markdown",
   "metadata": {},
   "source": [
    "### Importer\n",
    "Med \"importer\" gjør vi nåværende python \"bevisst\" på kodepakker som allerede er innstallerte, av feks. Google, inn i \"colab\".\n",
    "\n",
    "Pandas og Plotly er eksempler på pakker som ikke ligger i standardbiblioteket, men som Google har innstallert inn i Colab for oss. Denne kodesnutten gjør pakkene tilgjengelig for oss i notebooket vårt:"
   ]
  },
  {
   "cell_type": "code",
   "execution_count": null,
   "metadata": {
    "tags": []
   },
   "outputs": [],
   "source": [
    "import pandas as pd\n",
    "import plotly.express as px\n",
    "import requests"
   ]
  },
  {
   "cell_type": "markdown",
   "metadata": {},
   "source": [
    "### Hent kommuneinndelt norgeskart \n",
    "Vi henter innholdet i en \"geojson\" fil fra github, med kommuneinndelingen fra 2020."
   ]
  },
  {
   "cell_type": "code",
   "execution_count": null,
   "metadata": {
    "tags": []
   },
   "outputs": [],
   "source": [
    "kommune_json_path = \"https://raw.githubusercontent.com/robhop/fylker-og-kommuner-2020/master/Kommuner-medium.json\"\n",
    "geojson = requests.get(kommune_json_path).json()\n",
    "#geojson  # Se på objektet om du vil..."
   ]
  },
  {
   "cell_type": "markdown",
   "metadata": {},
   "source": [
    "### Hent data fra github\n",
    "Google colab lar oss hente ting fra github, her har vi lagt en csv-fil rett på githuben vår.\n",
    "Metoden \"read_csv\" forstår hva en webadresse er, og forsøker å hente data derfra.\\\n",
    "Fordi CSVen er europeisk, så må vi spesifisere seperatoren til semikolon (i USA bruker de komma).\\\n",
    "Python liker alt som \"UTF8\" encodet, og siden csven er encodet som \"latin1\", så må vi spesifisere dette.\\\n",
    "Vi ønsker å bruke første rad som \"kolonnenavnene\", og setter da header=1."
   ]
  },
  {
   "cell_type": "code",
   "execution_count": null,
   "metadata": {
    "tags": []
   },
   "outputs": [],
   "source": [
    "# Hent dataene \n",
    "kommune_url = \"https://raw.githubusercontent.com/statisticsnorway/kurs-forskningskvelden/main/data/valg_2019_18_19aar.csv\"\n",
    "kommune_data = pd.read_csv(kommune_url,\n",
    "                    encoding=\"latin1\",\n",
    "                    sep=\";\",\n",
    "                    header=1)\n",
    "kommune_data"
   ]
  },
  {
   "cell_type": "markdown",
   "metadata": {},
   "source": [
    "### Modifiser dataene så den lettere lar seg grafe"
   ]
  },
  {
   "cell_type": "code",
   "execution_count": null,
   "metadata": {
    "tags": []
   },
   "outputs": [],
   "source": [
    "kommune_data = kommune_data.rename(columns={\"Valgdeltakelse 2019 Begge kjønn\":\"valgdeltakelse\"})\n",
    "kommune_data[\"valgdeltakelse\"] = (kommune_data[\"valgdeltakelse\"]\n",
    "                                  .replace(\":\", float('nan')) # SSB bruker tegn som : og . for å si at celler er tomme\n",
    "                                  .replace(\".\", float('nan'))\n",
    "                                  .astype(float) # konverter kolonnen til ett ekte desimaltall\n",
    "                                 )\n",
    "kommune_data[\"kommnr\"] = kommune_data[\"region\"].str[:4] # Lager en ny kolonne med kun kommnr fra region-kolonnen\n",
    "kommune_data"
   ]
  },
  {
   "cell_type": "markdown",
   "metadata": {
    "tags": []
   },
   "source": [
    "### Filtrer geojson ned til kun de brukte kommunenummerene i dataene\n"
   ]
  },
  {
   "cell_type": "code",
   "execution_count": null,
   "metadata": {},
   "outputs": [],
   "source": [
    "geojson_features_in_data = [feature for feature in geojson[\"features\"] \n",
    "                            if str(feature[\"properties\"][\"kommunenummer\"]).zfill(4) in kommune_data[\"kommnr\"]]\n",
    "geojson_in_data = geojson.copy()\n",
    "geojson_in_data[\"features\"] = geojson_features_in_data"
   ]
  },
  {
   "cell_type": "markdown",
   "metadata": {},
   "source": [
    "### Graf ett kart med dataene og geojson-innholdet."
   ]
  },
  {
   "cell_type": "code",
   "execution_count": null,
   "metadata": {
    "tags": []
   },
   "outputs": [],
   "source": [
    "fig = px.choropleth(kommune_data,\n",
    "                    geojson=geojson, \n",
    "                    locations=f\"kommnr\",\n",
    "                    labels={\"region\" : \"Kommune\"},\n",
    "                    featureidkey = \"properties.kommunenummer\",\n",
    "                    color=\"valgdeltakelse\",\n",
    "                    projection=\"mercator\",\n",
    "                    scope=\"europe\",\n",
    "                    height=1500,\n",
    "                    width=1500,\n",
    "                    hover_data=[\"region\", \"valgdeltakelse\"]\n",
    "                      )\n",
    "# Change settings on figure\n",
    "fig.update_geos(fitbounds=\"locations\", visible=False)\n",
    "fig.update_layout(margin={\"r\":0,\"t\":0,\"l\":0,\"b\":0},\n",
    "                  paper_bgcolor='rgba(0,0,0,0)',\n",
    "                  plot_bgcolor='rgba(0,0,0,0)')\n",
    "     "
   ]
  },
  {
   "cell_type": "markdown",
   "metadata": {},
   "source": [
    "# Oppgaver:\n",
    "- Kan du forklare hvorfor noen kommuner er hvite?\n",
    "- Utforsk parametrene til plotly choropleth, er det noe mer du kan justere for at kartet skal bli mer som du vil?\n",
    "- Hva skjer om du filtrerer ned dataene før du lager kartet? Får du til å begrense det ned til kommunene i Innlandet? Se i forrige notebook for kodesnutt.\n",
    "- Finn annen data du er interessert i på kommunenivå, og prøv å få det inn i notebooket og lage ett fint kart basert på det."
   ]
  },
  {
   "cell_type": "code",
   "execution_count": null,
   "metadata": {},
   "outputs": [],
   "source": []
  }
 ],
 "metadata": {
  "language_info": {
   "codemirror_mode": {
    "name": "ipython"
   },
   "file_extension": ".py",
   "mimetype": "text/x-python",
   "name": "python",
   "nbconvert_exporter": "python"
  }
 },
 "nbformat": 4,
 "nbformat_minor": 4
}
