{
 "cells": [
  {
   "cell_type": "code",
   "execution_count": null,
   "metadata": {},
   "outputs": [],
   "source": [
    "import pandas as pd\n",
    "import plotly.express as px\n",
    "import requests"
   ]
  },
  {
   "cell_type": "code",
   "execution_count": null,
   "metadata": {},
   "outputs": [],
   "source": [
    "kommune_json_path = \"https://raw.githubusercontent.com/robhop/fylker-og-kommuner-2020/master/Kommuner-medium.json\"\n",
    "geojson = requests.get(kommune_json_path).json()"
   ]
  },
  {
   "cell_type": "code",
   "execution_count": null,
   "metadata": {},
   "outputs": [],
   "source": [
    "# Kommunenummerene som finnes i dataene\n",
    "kommnr_i_data = data[f\"kommnr_{aar_kart}\"].to_list()\n",
    "kommnr_i_data\n"
   ]
  },
  {
   "cell_type": "code",
   "execution_count": null,
   "metadata": {},
   "outputs": [],
   "source": [
    "# filter geojson ned til kun de bukre kommunenummerene i dataene:\n",
    "geojson_features_in_data = [feature for feature in geojson[\"features\"] \n",
    "                            if str(feature[\"properties\"][\"kommunenummer\"]).zfill(4) in kommnr_i_data]\n",
    "geojson_in_data = geojson.copy()\n",
    "geojson_in_data[\"features\"] = geojson_features_in_data"
   ]
  },
  {
   "cell_type": "code",
   "execution_count": null,
   "metadata": {},
   "outputs": [],
   "source": [
    "fig = px.choropleth(data, \n",
    "                    geojson=geojson, \n",
    "                    locations=f\"kommnr_{aar_kart}\",\n",
    "                    labels={\"Region\" : \"Kommune\"},\n",
    "                    featureidkey = \"properties.kommunenummer\",\n",
    "                    color=\"discrete_color_groups\",\n",
    "                    color_discrete_sequence=['#b6e8b8','#73c37f','#1a9d49'],\n",
    "                    #color_continuous_scale = [\"#3396d2\", \"#f26539\"],\n",
    "                    range_color=(min(data_innlandet_alle['1a. Fullført med studie- eller yrkeskompetanse på normert tid4']),\n",
    "                                 max(data_innlandet_alle['1a. Fullført med studie- eller yrkeskompetanse på normert tid4'])),\n",
    "                    projection=\"mercator\",\n",
    "                    scope=\"europe\",\n",
    "                    #labels={'unemp':'unemployment rate'}\n",
    "                    height=1500,\n",
    "                    width=1500\n",
    "                      )\n",
    "fig"
   ]
  }
 ],
 "metadata": {
  "language_info": {
   "name": "python"
  },
  "orig_nbformat": 4
 },
 "nbformat": 4,
 "nbformat_minor": 2
}
