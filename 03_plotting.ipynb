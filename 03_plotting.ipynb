{
 "cells": [
  {
   "cell_type": "markdown",
   "metadata": {},
   "source": [
    "### Importer\n",
    "Med \"importer\" gjør vi nåværende python \"bevisst\" på kodepakker som allerede er innstallerte, av feks. Google, inn i \"colab\".\n",
    "\n",
    "Pandas og Plotly er eksempler på pakker som ikke ligger i standardbiblioteket, men som Google har innstallert inn i Colab for oss. Denne kodesnutten gjør pakkene tilgjengelig for oss i notebooket vårt:"
   ]
  },
  {
   "cell_type": "code",
   "execution_count": null,
   "metadata": {
    "tags": []
   },
   "outputs": [],
   "source": [
    "import pandas as pd  # Døper om \"pandas\" til \"pd\" fra nå av\n",
    "import plotly.express as px  # Døper om \"plotly.express\" til \"px\" fra nå av"
   ]
  },
  {
   "cell_type": "markdown",
   "metadata": {},
   "source": [
    "### Hent data fra github\n",
    "Google colab lar oss hente ting fra github, her har vi lagt en csv-fil rett på githuben vår.\n",
    "Metoden \"read_csv\" forstår hva en webadresse er, og forsøker å hente data derfra.\\\n",
    "Fordi CSVen er europeisk, så må vi spesifisere seperatoren til semikolon (i USA bruker de komma).\\\n",
    "Python liker alt som \"UTF8\" encodet, og siden csven er encodet som \"latin1\", så må vi spesifisere dette.\\\n",
    "Vi ønsker å bruke første rad som \"kolonnenavnene\", og setter da header=1."
   ]
  },
  {
   "cell_type": "code",
   "execution_count": null,
   "metadata": {
    "tags": []
   },
   "outputs": [],
   "source": [
    "data = pd.read_csv(\"https://raw.githubusercontent.com/statisticsnorway/kurs-forskningskvelden/main/data/valg_2019_18_19aar.csv\",\n",
    "                    encoding=\"latin1\",\n",
    "                    sep=\";\",\n",
    "                    header=1)"
   ]
  },
  {
   "cell_type": "code",
   "execution_count": null,
   "metadata": {},
   "outputs": [],
   "source": [
    "# En metode data-objektet \"arver\" fra DataFrames i pandas-pakken er \"info\"\n",
    "data.info()"
   ]
  },
  {
   "cell_type": "code",
   "execution_count": null,
   "metadata": {},
   "outputs": [],
   "source": [
    "# Ser vi på dataene direkte så er \"default-viewen\" i colab litt fancy?\n",
    "data\n",
    "# Prøv å trykk på knappene som dukker opp og se hva som skjer..."
   ]
  },
  {
   "cell_type": "markdown",
   "metadata": {},
   "source": [
    "### Lage en graf med dataene\n",
    "Pakken plotly.express har vi importert som \"px\", under denne ligger en metode som heter \"histogram\". Vi bruker denne for å lage ett slikt objekt, og så vise det frem."
   ]
  },
  {
   "cell_type": "code",
   "execution_count": null,
   "metadata": {
    "tags": []
   },
   "outputs": [],
   "source": [
    "\n",
    "fig_hist = px.histogram(data.sort_values('Valgdeltakelse 2019 Begge kjønn'),\n",
    "                        x=\"region\", \n",
    "                        y='Valgdeltakelse 2019 Begge kjønn',)\n",
    "fig_hist.show()"
   ]
  },
  {
   "cell_type": "code",
   "execution_count": null,
   "metadata": {},
   "outputs": [],
   "source": [
    "# Med funksjonen help() kan vi hente ut dokumentasjonen til metoden, og kan se på hvilke andre parameter vi kan sette.\n",
    "help(px.histogram)"
   ]
  },
  {
   "cell_type": "markdown",
   "metadata": {},
   "source": [
    "# Oppgaver:\n",
    "1. Endre hva som vises i tabellen ved å filtrere ned \"data\" før du kjører cellen med histogram igjen. Hvordan:\n",
    "    1. På kolonnen \"region\" kan man selektere de første to tegnene og nedfiltrere på den måten\n",
    "    1. ```data = data[data[\"region\"].str[:2] == \"50\"] # Filtrer ned til Trøndelag```\n",
    "    1. Finn feks. ut hvilken kode du skal bruke for å finne kommunene i Innlandet\n",
    "1. Endre farger på kolonnene, ved å utforske parametrene dere kan sende til histogram(), google evt. \"plotly express histogram\"\n",
    "1. Kan du finne annen data på internett du kan hente inn som du kan sette i ett histogram?"
   ]
  }
 ],
 "metadata": {
  "language_info": {
   "codemirror_mode": {
    "name": "ipython"
   },
   "file_extension": ".py",
   "mimetype": "text/x-python",
   "name": "python",
   "nbconvert_exporter": "python"
  }
 },
 "nbformat": 4,
 "nbformat_minor": 4
}
