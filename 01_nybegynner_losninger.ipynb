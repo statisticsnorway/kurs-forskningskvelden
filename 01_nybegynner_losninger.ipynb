{
 "cells": [
  {
   "cell_type": "markdown",
   "metadata": {},
   "source": [
    "### Nybegynneroppgaver\n",
    "Bli kjent med programmeringsspråket Python med disse oppgavene.\\\n",
    "Se etter **#?** for å finne steder det er meningen at du skal bytte ut med egen kode.\\\n",
    "Kjør cellene ved å markere dem med musen og trykke shift+enter for å kjøre dem."
   ]
  },
  {
   "cell_type": "code",
   "execution_count": null,
   "metadata": {},
   "outputs": [],
   "source": [
    "# Modifiser koden under til å printe ut det du ønsker (endre koden)\n",
    "print(\"Hello world\")"
   ]
  },
  {
   "cell_type": "code",
   "execution_count": null,
   "metadata": {},
   "outputs": [],
   "source": [
    "# Finn ut hva 7 * 54 er\n",
    "7*54"
   ]
  },
  {
   "cell_type": "code",
   "execution_count": null,
   "metadata": {},
   "outputs": [],
   "source": [
    "# Legg noe i variabelen \"a\" og print a (endre koden)\n",
    "a = 42\n",
    "print(a)"
   ]
  },
  {
   "cell_type": "code",
   "execution_count": null,
   "metadata": {},
   "outputs": [],
   "source": [
    "# Spør brukeren om ett tall, så gjør noe med verdien (endre fra linje to)\n",
    "b = int(input(\"Skriv inn et tall: \"))\n",
    "b"
   ]
  },
  {
   "cell_type": "code",
   "execution_count": null,
   "metadata": {},
   "outputs": [],
   "source": [
    "# Sjekk datatypen til variabelen a eller b ved å bruke funksjonen type()\n",
    "print(type(a), type(b))\n",
    "# Hvilke ulike datatyper kan du få type() til å returnere? Kan du lage en float (desimaltall) feks?\n",
    "print(type(\"Hallo world\"))\n",
    "print(type(5.0))\n",
    "print(type(5))\n",
    "print(type(True))\")"
   ]
  },
  {
   "cell_type": "code",
   "execution_count": null,
   "metadata": {},
   "outputs": [],
   "source": [
    "# if-statements = \n",
    "if b > 5:\n",
    "    print(\"b er større enn 5\")\n",
    "else:\n",
    "    print(\"b er ikke større enn 5\")"
   ]
  },
  {
   "cell_type": "code",
   "execution_count": null,
   "metadata": {},
   "outputs": [],
   "source": [
    "# loops\n",
    "for "
   ]
  },
  {
   "cell_type": "code",
   "execution_count": null,
   "metadata": {},
   "outputs": [],
   "source": [
    "# comprehensions?"
   ]
  },
  {
   "cell_type": "code",
   "execution_count": null,
   "metadata": {},
   "outputs": [],
   "source": [
    "# Skriv en funksjon"
   ]
  },
  {
   "cell_type": "code",
   "execution_count": null,
   "metadata": {},
   "outputs": [],
   "source": []
  }
 ],
 "metadata": {
  "language_info": {
   "name": "python"
  },
  "orig_nbformat": 4
 },
 "nbformat": 4,
 "nbformat_minor": 2
}
