{
 "cells": [
  {
   "cell_type": "markdown",
   "metadata": {},
   "source": [
    "### Ta vare på det du har gjort ved å lagre det på egen google drive\n",
    "I Notebooket i Colab velg \"Kopier til Disk\"\\\n",
    "Da kan du hente frem det du har gjort senere og fortsette i Colab når du måtte ønske...\\\n",
    "Repoet dere har hentet notebookene fra, vil også forbli åpent."
   ]
  },
  {
   "cell_type": "markdown",
   "metadata": {},
   "source": [
    "### Andre kilder til ekte datasett, hva syns du er spennende, hva har du skoleoppgave om nå (imponer læreren)?\n",
    "- [Felles datakatalog Norge](https://data.norge.no/)\n",
    "- [kaggle](https://www.kaggle.com/datasets)\n",
    "- [statistikkbanken](https://www.ssb.no/statbank)"
   ]
  },
  {
   "cell_type": "markdown",
   "metadata": {},
   "source": [
    "### Youtubekanaler til videre læring om Python og Pandas\n",
    "\n",
    "- [Corey Schafer](https://www.youtube.com/watch?v=k9TUPpGqYTo&list=PL-osiE80TeTt2d9bfVyTiXJA-UTHn6WwU&index=2) - Fint for nybegynnere\n",
    "- [ArjanCodes](https://www.youtube.com/watch?v=0Jw8seqai18) - Ofte litt mer avansert"
   ]
  }
 ],
 "metadata": {
  "language_info": {
   "codemirror_mode": {
    "name": "ipython"
   },
   "file_extension": ".py",
   "mimetype": "text/x-python",
   "name": "python",
   "nbconvert_exporter": "python"
  }
 },
 "nbformat": 4,
 "nbformat_minor": 4
}
