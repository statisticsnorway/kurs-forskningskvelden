{
 "cells": [
  {
   "cell_type": "code",
   "execution_count": null,
   "metadata": {},
   "outputs": [],
   "source": [
    "import pandas as pd\n",
    "import plotly.express as px"
   ]
  },
  {
   "cell_type": "code",
   "execution_count": null,
   "metadata": {},
   "outputs": [],
   "source": [
    "pd.read_csv(\"https://raw.githubusercontent.com/statisticsnorway/kurs-forskningskvelden/add_data/data/valgdeltakelse.csv\")"
   ]
  },
  {
   "cell_type": "code",
   "execution_count": null,
   "metadata": {},
   "outputs": [],
   "source": [
    "fig_hist = px.histogram(data.sort_values('1a. Fullført med studie- eller yrkeskompetanse på normert tid4'), \n",
    "                        x=\"Region\", \n",
    "                        y='1a. Fullført med studie- eller yrkeskompetanse på normert tid4',\n",
    "                        color=\"discrete_color_groups\",\n",
    "                        color_discrete_sequence=['#b6e8b8','#73c37f','#1a9d49'],\n",
    "                       )\n",
    "fig_hist.show()"
   ]
  }
 ],
 "metadata": {
  "language_info": {
   "codemirror_mode": {
    "name": "ipython"
   },
   "file_extension": ".py",
   "mimetype": "text/x-python",
   "name": "python",
   "nbconvert_exporter": "python"
  }
 },
 "nbformat": 4,
 "nbformat_minor": 4
}
