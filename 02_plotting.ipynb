{
 "cells": [
  {
   "cell_type": "code",
   "execution_count": null,
   "metadata": {},
   "outputs": [],
   "source": [
    "import pandas as pd\n",
    "import plotly.express as px"
   ]
  },
  {
   "cell_type": "code",
   "execution_count": null,
   "metadata": {},
   "outputs": [],
   "source": [
    "data = pd.read_csv(\"https://raw.githubusercontent.com/statisticsnorway/kurs-forskningskvelden/add_data/data/valg_2019_18_19aar.csv\",\n",
    "                    encoding=\"latin1\",\n",
    "                    sep=\";\",\n",
    "                    header=1)"
   ]
  },
  {
   "cell_type": "code",
   "execution_count": null,
   "metadata": {},
   "outputs": [],
   "source": [
    "fig_hist = px.histogram(data.sort_values('Valgdeltakelse 2019 Begge kjønn'), \n",
    "                        x=\"region\", \n",
    "                        y='Valgdeltakelse 2019 Begge kjønn',\n",
    "                        color=\"discrete_color_groups\",\n",
    "                        color_discrete_sequence=['#b6e8b8','#73c37f','#1a9d49'],\n",
    "                       )\n",
    "fig_hist.show()"
   ]
  }
 ],
 "metadata": {
  "language_info": {
   "codemirror_mode": {
    "name": "ipython"
   },
   "file_extension": ".py",
   "mimetype": "text/x-python",
   "name": "python",
   "nbconvert_exporter": "python"
  }
 },
 "nbformat": 4,
 "nbformat_minor": 4
}
