{
 "cells": [
  {
   "cell_type": "code",
   "execution_count": null,
   "metadata": {
    "tags": []
   },
   "outputs": [],
   "source": [
    "import pandas as pd\n",
    "import plotly.express as px"
   ]
  },
  {
   "cell_type": "code",
   "execution_count": null,
   "metadata": {
    "tags": []
   },
   "outputs": [],
   "source": [
    "data = pd.read_csv(\"https://raw.githubusercontent.com/statisticsnorway/kurs-forskningskvelden/main/data/valg_2019_18_19aar.csv\",\n",
    "                    encoding=\"latin1\",\n",
    "                    sep=\";\",\n",
    "                    header=1)"
   ]
  },
  {
   "cell_type": "code",
   "execution_count": null,
   "metadata": {
    "tags": []
   },
   "outputs": [],
   "source": [
    "fig_hist = px.histogram(data.sort_values('Valgdeltakelse 2019 Begge kjønn'),\n",
    "                        x=\"region\", \n",
    "                        y='Valgdeltakelse 2019 Begge kjønn',)\n",
    "fig_hist.show()"
   ]
  },
  {
   "cell_type": "markdown",
   "metadata": {},
   "source": [
    "# Oppgaver:\n",
    "1. Endre hva som vises i tabellen ved å filtrere ned \"data\" før du kjører cellen med histogram igjen. Hvordan:\n",
    "    1. På kolonnen \"region\" kan man selektere de første to tegnene og nedfiltrere på den måten\n",
    "    1. ```data = data[data[\"region\"].str[:2] == \"50\"] # Filtrer ned til Trøndelag```\n",
    "    1. Finn feks. ut hvilken kode du skal bruke for å finne kommunene i Innlandet\n",
    "1. Endre farger på kolonnene, ved å utforske parametrene dere kan sende til histogram(), google evt. \"plotly express histogram\"\n",
    "1. Kan du finne annen data på internett du kan hente inn som du kan sette i ett histogram?"
   ]
  },
  {
   "cell_type": "code",
   "execution_count": null,
   "metadata": {},
   "outputs": [],
   "source": []
  }
 ],
 "metadata": {
  "language_info": {
   "codemirror_mode": {
    "name": "ipython"
   },
   "file_extension": ".py",
   "mimetype": "text/x-python",
   "name": "python",
   "nbconvert_exporter": "python"
  }
 },
 "nbformat": 4,
 "nbformat_minor": 4
}
