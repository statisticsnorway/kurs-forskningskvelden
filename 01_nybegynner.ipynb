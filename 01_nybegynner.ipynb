{
 "cells": [
  {
   "cell_type": "markdown",
   "metadata": {},
   "source": [
    "### Nybegynneroppgaver\n",
    "Bli kjent med programmeringsspråket Python med disse oppgavene.\\\n",
    "Se etter **#?** for å finne steder det er meningen at du skal bytte ut med egen kode.\\\n",
    "Kjør cellene ved å markere dem med musen og trykke shift+enter for å kjøre dem."
   ]
  },
  {
   "cell_type": "markdown",
   "metadata": {},
   "source": [
    "# Del 1: variabler og innebygde funksjoner"
   ]
  },
  {
   "cell_type": "code",
   "execution_count": null,
   "metadata": {},
   "outputs": [],
   "source": [
    "# Modifiser koden under til å printe ut det du ønsker (endre koden)\n",
    "print(#?)"
   ]
  },
  {
   "cell_type": "code",
   "execution_count": null,
   "metadata": {},
   "outputs": [],
   "source": [
    "# Finn ut hva 7 * 54 er\n",
    "#?"
   ]
  },
  {
   "cell_type": "code",
   "execution_count": null,
   "metadata": {},
   "outputs": [],
   "source": [
    "# Legg noe i variabelen \"a\" og print a (endre koden)\n",
    "a = #?\n",
    "print(#?)"
   ]
  },
  {
   "cell_type": "code",
   "execution_count": null,
   "metadata": {
    "tags": []
   },
   "outputs": [],
   "source": [
    "# Spør brukeren om ett tall, så gjør noe med verdien (endre fra linje to)\n",
    "# Putt funksjonen input inni funksjonen int. I input, legg en streng for hva som skal stå når brukeren spørres om ett tall\n",
    "b = int(input(\"#?\"))\n",
    "print(type(#?), #?)"
   ]
  },
  {
   "cell_type": "markdown",
   "metadata": {
    "tags": []
   },
   "source": [
    "# Del 2: flere datatyper"
   ]
  },
  {
   "cell_type": "code",
   "execution_count": null,
   "metadata": {},
   "outputs": [],
   "source": [
    "# Sjekk datatypen til variabelen a eller b ved å bruke funksjonen type()\n",
    "print(type(#?))\n",
    "# Hvilke ulike datatyper kan du få type() til å returnere? Kan du lage en float (desimaltall) feks?\n",
    "print(type(#?))\n",
    "print(type(#?))\n",
    "print(type(#?))\n",
    "print(type(#?))"
   ]
  },
  {
   "cell_type": "markdown",
   "metadata": {},
   "source": [
    "# Del 3: Datastrukturer\n",
    "To typer datastrukturer - lister og dicts"
   ]
  },
  {
   "cell_type": "code",
   "execution_count": null,
   "metadata": {},
   "outputs": [],
   "source": [
    "# Liste\n",
    "liste = [1, 2, 3, 4, 5]\n",
    "print(liste, type(liste))"
   ]
  },
  {
   "cell_type": "code",
   "execution_count": null,
   "metadata": {},
   "outputs": [],
   "source": [
    "# Slå opp det tredje tegnet i \"liste\"\n",
    "liste[#?]\n",
    "# Hva får du da? Prøv så å slå opp det \"nullte\"..."
   ]
  },
  {
   "cell_type": "code",
   "execution_count": null,
   "metadata": {
    "tags": []
   },
   "outputs": [],
   "source": [
    "# Du kan også bruke funksjonen list() for å lage en liste\n",
    "list(range(20))"
   ]
  },
  {
   "cell_type": "code",
   "execution_count": null,
   "metadata": {},
   "outputs": [],
   "source": [
    "# dictionary er ett slags \"oppslagsverk\"\n",
    "kodeverk = {\"01\": \"kvinne\",\n",
    "            \"02\": \"mann\"}\n",
    "# Slå opp en av verdiene\n",
    "kodeverk[\"01\"]"
   ]
  },
  {
   "cell_type": "code",
   "execution_count": null,
   "metadata": {},
   "outputs": [],
   "source": [
    "# Slå opp den andre verdien i dictionariet:\n",
    "kodeverk[#?]"
   ]
  },
  {
   "cell_type": "code",
   "execution_count": null,
   "metadata": {},
   "outputs": [],
   "source": [
    "# Prøv å slå opp en verdi som ikke finnes i dictionariet, hva skjer da?\n",
    "kodeverk[#?]"
   ]
  },
  {
   "cell_type": "code",
   "execution_count": null,
   "metadata": {},
   "outputs": [],
   "source": [
    "print(kodeverk, type(kodeverk))"
   ]
  },
  {
   "cell_type": "markdown",
   "metadata": {},
   "source": [
    "# Del 4: Betingelser"
   ]
  },
  {
   "cell_type": "code",
   "execution_count": null,
   "metadata": {},
   "outputs": [],
   "source": [
    "# Betingelser kan styre hva som blir utført i program.\n",
    "# I Python så \"rykker vi inn\", når vi er inni ting som løkker, if statements, funksjonsdefinisjoner mm.\n",
    "# Sjekk om b er større enn 5, i så fall print noe\n",
    "# Om den er noe annet, print noe annet (else:)\n",
    "if b > 5:\n",
    "    print(\"b er større enn 5\")\n",
    "else:\n",
    "    print(\"b er ikke større enn 5\")"
   ]
  },
  {
   "cell_type": "code",
   "execution_count": null,
   "metadata": {},
   "outputs": [],
   "source": [
    "# Skriv din egen if-blokk med andre betingelser\n",
    "\n",
    "if #?:\n",
    "    print(#?)\n",
    "else:\n",
    "    print(#?)"
   ]
  },
  {
   "cell_type": "markdown",
   "metadata": {},
   "source": [
    "# Del 5: Løkker"
   ]
  },
  {
   "cell_type": "code",
   "execution_count": null,
   "metadata": {},
   "outputs": [],
   "source": [
    "# If-statements og løkker (loops) kalles også kontrollstrukturer.\n",
    "# loops gjør at vi kan gjøre det samme mange ganger. \n",
    "# legg til ett tall i range (antall ganger loopen skal kjøre)\n",
    "# For hver runde print variabelen i, hva har i i seg hver runde?\n",
    "for i in range(#?):\n",
    "    print(i)"
   ]
  },
  {
   "cell_type": "code",
   "execution_count": null,
   "metadata": {
    "tags": []
   },
   "outputs": [],
   "source": [
    "# While-løkker bruker vi når vi ikke vet på forhånd hvor mange ganger noe skal gjøres\n",
    "# Fyll ut while-løkken slik at du ganger med ett tall mellom 0 og 1\n",
    "# Stopp løkken når x er mindre enn 1.\n",
    "x = 2\n",
    "while x > #?:\n",
    "    x = x * #?\n",
    "    print(x)"
   ]
  },
  {
   "cell_type": "code",
   "execution_count": null,
   "metadata": {
    "tags": []
   },
   "outputs": [],
   "source": [
    "# While kan være nyttig om man vil insistere på at brukeren skriver ett heltall kanskje?\n",
    "# Se om du forstår hvorfor dette nå fungerer, prøv å skriv inn noe annet enn ett heltall..\n",
    "x = \"x\"\n",
    "while not x.isdigit():\n",
    "    x = input(\"Prøv å skriv noe annet enn ett heltall: \")\n",
    "print(f\"Hah! Heltallet ditt er: {x}\")"
   ]
  },
  {
   "cell_type": "markdown",
   "metadata": {},
   "source": [
    "# Bonus: Skriv din egen funksjon\n",
    "En vanlig oppgave man før ga på jobb-intervju: \"fizzbuzz\""
   ]
  },
  {
   "cell_type": "code",
   "execution_count": null,
   "metadata": {},
   "outputs": [],
   "source": [
    "# Skriv en funksjon - fizzbuzz - den skal kunne gis ett tall (parameter)\n",
    "# Om tallet er delelig på 3 (og forblir ett heltall), skal den returnere \"fizz\"\n",
    "# Om tallet er delelig på 5 (forblir heltall), skal den returnere \"buzz\"\n",
    "# Om begge er tilfellet (både delelig på 3 og 5), skal den returnere \"fizzbuzz\"\n",
    "# Ellers skal den kun returnere tallet den fikk inn\n",
    "# Du kan finne resten av deling med % (modulus operatoren)\n",
    "# feks\n",
    "print(14 % 3, \": 14 delt på 3 går opp i 3, med en rest på 2, vi får resten, dvs. 2, med modulus-operatoren\")\n"
   ]
  },
  {
   "cell_type": "code",
   "execution_count": null,
   "metadata": {},
   "outputs": [],
   "source": [
    "# Skriv funksjonen her, som tar ett tall, og returnerer \"fizz\" hvis tallen er delbart med 3, \n",
    "# \"buzz\" hvis tallen er delbart med 5, eller \"fizzbuzz\" hvis tallen er delbart med 15.\n",
    "def fizzbuzz(n):\n",
    "    if #?:\n",
    "        return #?\n",
    "    elif #?:\n",
    "        return #?\n",
    "    elif #?:\n",
    "        return #?\n",
    "    else:\n",
    "        return n\n",
    "# Bruk en loop over en range, og kjør fizzbuzz for de første 100 tallene fom. 0\n",
    "for x in range(#?):\n",
    "    print(fizzbuzz(x))"
   ]
  }
 ],
 "metadata": {
  "language_info": {
   "codemirror_mode": {
    "name": "ipython"
   },
   "file_extension": ".py",
   "mimetype": "text/x-python",
   "name": "python",
   "nbconvert_exporter": "python"
  }
 },
 "nbformat": 4,
 "nbformat_minor": 4
}
