{
 "cells": [
  {
   "cell_type": "markdown",
   "metadata": {},
   "source": [
    "### Ta vare på det du har gjort ved å lagre det på en egen google drive\n",
    "I Notebooket i Colab velg \"Kopier til Disk\"\\\n",
    "Da kan du hente frem det du har gjort senere og fortsette i Colab når du måtte ønske."
   ]
  },
  {
   "cell_type": "markdown",
   "metadata": {},
   "source": [
    "Andre kilder til ekte datasett, hva syns du er spennende, hva har du skoleoppgave om nå?\n",
    "- [Felles datakatalog Norge](https://data.norge.no/)\n",
    "- [kaggle](https://www.kaggle.com/datasets)\n",
    "- [statistikkbanken](https://www.ssb.no/statbank)"
   ]
  },
  {
   "cell_type": "code",
   "execution_count": null,
   "metadata": {
    "vscode": {
     "languageId": "plaintext"
    }
   },
   "outputs": [],
   "source": [
    "### Forskjellen mellom notebooks .ipynb og vanlige .py-filer"
   ]
  },
  {
   "cell_type": "markdown",
   "metadata": {},
   "source": [
    "### Kilder til videre læring om Python og Pandas\n",
    "\n",
    "- [Corey Schafer]()\n",
    "- [ArjanCodes]()"
   ]
  },
  {
   "cell_type": "markdown",
   "metadata": {},
   "source": []
  }
 ],
 "metadata": {
  "language_info": {
   "name": "python"
  },
  "orig_nbformat": 4
 },
 "nbformat": 4,
 "nbformat_minor": 2
}
