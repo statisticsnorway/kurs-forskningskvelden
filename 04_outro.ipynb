{
 "cells": [
  {
   "cell_type": "markdown",
   "metadata": {},
   "source": [
    "### Ta vare på det du har gjort ved å lagre det på en egen google drive\n",
    "I Notebooket i Colab velg \"Kopier til Disk\""
   ]
  },
  {
   "cell_type": "code",
   "execution_count": null,
   "metadata": {
    "vscode": {
     "languageId": "plaintext"
    }
   },
   "outputs": [],
   "source": [
    "Andre kilder til ekte datasett\n",
    "- https://data.norge.no/\n",
    "- kaggle\n",
    "- statistikkbanken"
   ]
  },
  {
   "cell_type": "markdown",
   "metadata": {},
   "source": [
    "### Kilder til videre læring om Python og Pandas\n",
    "\n",
    "- \n",
    "- [Corey Schafer]()\n",
    "- [ArjanCodes]()"
   ]
  }
 ],
 "metadata": {
  "language_info": {
   "name": "python"
  },
  "orig_nbformat": 4
 },
 "nbformat": 4,
 "nbformat_minor": 2
}
