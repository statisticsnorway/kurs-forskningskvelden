{
 "cells": [
  {
   "cell_type": "markdown",
   "metadata": {},
   "source": [
    "### Velkommen til kodekurs i regi av Statistisk sentralbyrå og Høgskolen i Kongsvinger\n",
    "Vi kommer til å programmere i språket Python.\\\n",
    "Dette notebooket tar for seg det vi skal gjøre i felleskap.\\\n",
    "Senere skal dere velge ett av notebookene \"01\", \"02\" eller \"03\" å starte fra.\\\n",
    "Notebook nummer \"04\", går vi gjennom sammen etter timen har gått.\\\n",
    "Det kan hende vi tar spørsmål underveis på \"tavla\", men det er lagt opp til en del egenjobbing."
   ]
  },
  {
   "cell_type": "markdown",
   "metadata": {},
   "source": [
    "### Hva er en variabel?"
   ]
  },
  {
   "cell_type": "markdown",
   "metadata": {},
   "source": [
    "### Hva er en funksjon?"
   ]
  },
  {
   "cell_type": "markdown",
   "metadata": {},
   "source": [
    "### Hva er en pakke?\n"
   ]
  },
  {
   "cell_type": "markdown",
   "metadata": {},
   "source": [
    "### Hvordan bruker vi \"objektorientering\""
   ]
  },
  {
   "cell_type": "markdown",
   "metadata": {},
   "source": []
  }
 ],
 "metadata": {
  "language_info": {
   "name": "python"
  },
  "orig_nbformat": 4
 },
 "nbformat": 4,
 "nbformat_minor": 2
}
