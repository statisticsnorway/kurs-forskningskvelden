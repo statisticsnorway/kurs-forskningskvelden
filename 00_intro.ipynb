{
 "cells": [
  {
   "cell_type": "markdown",
   "metadata": {},
   "source": [
    "### Velkommen til kodekurs i regi av Statistisk sentralbyrå og Høgskolen i Kongsvinger\n",
    "Vi kommer til å programmere i språket Python.\\\n",
    "Dette notebooket tar for seg det vi skal gjøre i felleskap.\\\n",
    "Senere skal dere velge ett av notebookene \"01\", \"02\" eller \"03\" å starte fra."
   ]
  },
  {
   "cell_type": "code",
   "execution_count": null,
   "metadata": {},
   "outputs": [],
   "source": []
  }
 ],
 "metadata": {
  "language_info": {
   "name": "python"
  },
  "orig_nbformat": 4
 },
 "nbformat": 4,
 "nbformat_minor": 2
}
