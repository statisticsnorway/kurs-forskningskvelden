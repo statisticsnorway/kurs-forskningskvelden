{
 "cells": [
  {
   "cell_type": "markdown",
   "metadata": {},
   "source": [
    "### Velkommen til kodekurs i regi av Statistisk sentralbyrå og Høgskolen i Kongsvinger\n",
    "Vi kommer til å programmere i språket Python.\\\n",
    "Dette notebooket tar for seg det vi skal gjøre i felleskap.\\\n",
    "Senere skal dere velge ett av notebookene \"01\", \"02\" eller \"03\" å starte fra.\\\n",
    "Notebook nummer \"04\", går vi gjennom sammen etter timen har gått.\\\n",
    "Det kan hende vi tar spørsmål underveis på \"tavla\", men det er lagt opp til en del egenjobbing."
   ]
  },
  {
   "cell_type": "markdown",
   "metadata": {},
   "source": [
    "### Hvilken erfaring har dere deltakere i programmering fra før?"
   ]
  },
  {
   "cell_type": "markdown",
   "metadata": {},
   "source": [
    "### Jobbe i Google colab, med kode og data fra github "
   ]
  },
  {
   "cell_type": "markdown",
   "metadata": {},
   "source": [
    "- Hva er colab?\n",
    "- Hva er github?"
   ]
  },
  {
   "cell_type": "markdown",
   "metadata": {},
   "source": [
    "### Hva er en variabel?"
   ]
  },
  {
   "cell_type": "code",
   "execution_count": null,
   "metadata": {
    "vscode": {
     "languageId": "plaintext"
    }
   },
   "outputs": [],
   "source": [
    "a = 1"
   ]
  },
  {
   "cell_type": "markdown",
   "metadata": {},
   "source": [
    "### Hva er en funksjon?"
   ]
  },
  {
   "cell_type": "code",
   "execution_count": null,
   "metadata": {
    "vscode": {
     "languageId": "plaintext"
    }
   },
   "outputs": [],
   "source": [
    "print(a)"
   ]
  },
  {
   "cell_type": "markdown",
   "metadata": {},
   "source": [
    "### Hva er en pakke?\n"
   ]
  },
  {
   "cell_type": "code",
   "execution_count": null,
   "metadata": {
    "vscode": {
     "languageId": "plaintext"
    }
   },
   "outputs": [],
   "source": [
    "import pandas as pd"
   ]
  },
  {
   "cell_type": "markdown",
   "metadata": {},
   "source": [
    "### Hvordan bruker vi \"objektorientering\""
   ]
  },
  {
   "cell_type": "markdown",
   "metadata": {},
   "source": [
    "data = pd.DataFrame({\"kolonne1\" : [\"celle1\", \"celle2\"]})\n",
    "display(data)\n",
    "data.info()"
   ]
  }
 ],
 "metadata": {
  "language_info": {
   "codemirror_mode": {
    "name": "ipython"
   },
   "file_extension": ".py",
   "mimetype": "text/x-python",
   "name": "python",
   "nbconvert_exporter": "python"
  }
 },
 "nbformat": 4,
 "nbformat_minor": 4
}
