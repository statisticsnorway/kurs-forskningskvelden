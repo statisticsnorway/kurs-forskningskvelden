{
 "cells": [
  {
   "cell_type": "markdown",
   "metadata": {},
   "source": [
    "### Løsningsforslag - Nybegynneroppgaver\n",
    "Bli kjent med programmeringsspråket Python med disse oppgavene.\\\n",
    "Se etter **#?** for å finne steder det er meningen at du skal bytte ut med egen kode.\\\n",
    "Kjør cellene ved å markere dem med musen og trykke shift+enter for å kjøre dem."
   ]
  },
  {
   "cell_type": "code",
   "execution_count": null,
   "metadata": {},
   "outputs": [],
   "source": [
    "# Modifiser koden under til å printe ut det du ønsker (endre koden)\n",
    "print(\"Hello world\")"
   ]
  },
  {
   "cell_type": "code",
   "execution_count": null,
   "metadata": {},
   "outputs": [],
   "source": [
    "# Finn ut hva 7 * 54 er\n",
    "7*54"
   ]
  },
  {
   "cell_type": "code",
   "execution_count": null,
   "metadata": {},
   "outputs": [],
   "source": [
    "# Legg noe i variabelen \"a\" og print a (endre koden)\n",
    "a = 42\n",
    "print(a)"
   ]
  },
  {
   "cell_type": "code",
   "execution_count": null,
   "metadata": {},
   "outputs": [],
   "source": [
    "# Spør brukeren om ett tall, så gjør noe med verdien (endre fra linje to)\n",
    "b = int(input(\"Skriv inn et tall: \"))\n",
    "b"
   ]
  },
  {
   "cell_type": "code",
   "execution_count": null,
   "metadata": {},
   "outputs": [],
   "source": [
    "# Sjekk datatypen til variabelen a eller b ved å bruke funksjonen type()\n",
    "print(type(a), type(b))\n",
    "# Hvilke ulike datatyper kan du få type() til å returnere? Kan du lage en float (desimaltall) feks?\n",
    "print(type(\"Hallo world\"))\n",
    "print(type(5.0))\n",
    "print(type(5))\n",
    "print(type(True))\")"
   ]
  },
  {
   "cell_type": "code",
   "execution_count": null,
   "metadata": {},
   "outputs": [],
   "source": [
    "# To dypere datatyper - lister og dicts\n",
    "liste = [1, 2, 3, 4, 5]"
   ]
  },
  {
   "cell_type": "code",
   "execution_count": null,
   "metadata": {},
   "outputs": [],
   "source": [
    "# dictionary\n",
    "kodeverk = {\"01\": \"kvinne\",\n",
    "            \"02\": \"mann\"}\n",
    "# Slå opp en av verdiene\n",
    "kodeverk[\"01\"]"
   ]
  },
  {
   "cell_type": "code",
   "execution_count": null,
   "metadata": {},
   "outputs": [],
   "source": [
    "# I Python så \"rykker vi inn\", når vi er inni ting som løkker, if statements, funksjonsdefinisjoner mm.\n",
    "if b > 5:\n",
    "    print(\"b er større enn 5\")\n",
    "else:\n",
    "    print(\"b er ikke større enn 5\")"
   ]
  },
  {
   "cell_type": "code",
   "execution_count": null,
   "metadata": {},
   "outputs": [],
   "source": [
    "# loops gjør at vi kan gjøre det samme mange ganger\n",
    "for i in range(40):\n",
    "    print(i)"
   ]
  },
  {
   "cell_type": "code",
   "execution_count": null,
   "metadata": {},
   "outputs": [],
   "source": [
    "# comprehensions - En loop inni en liste, med en liste som mål\n",
    "c = [i for i in range(10)]\n",
    "print(c)"
   ]
  },
  {
   "cell_type": "code",
   "execution_count": 3,
   "metadata": {},
   "outputs": [
    {
     "name": "stdout",
     "output_type": "stream",
     "text": [
      "2 : 14 delt på 3 går opp i 3, med en rest på 2, vi får resten, dvs. 2, med modulus-operatoren\n"
     ]
    }
   ],
   "source": [
    "# Skriv en funksjon - fizzbuzz - den skal kunne gis ett tall (parameter)\n",
    "# Om tallet er delelig på 3 (og forblir ett heltall), skal den returnere \"fizz\"\n",
    "# Om tallet er delelig på 5 (forblir heltall), skal den returnere \"buzz\"\n",
    "# Om begge er tilfellet (både delelig på 3 og 5), skal den returnere \"fizzbuzz\"\n",
    "# Ellers skal den kun returnere tallet den fikk inn\n",
    "# Du kan finne resten av deling med % (modulus operatoren)\n",
    "# feks\n",
    "print(14 % 3, \": 14 delt på 3 går opp i 3, med en rest på 2, vi får resten, dvs. 2, med modulus-operatoren\")\n"
   ]
  },
  {
   "cell_type": "code",
   "execution_count": 6,
   "metadata": {},
   "outputs": [
    {
     "name": "stdout",
     "output_type": "stream",
     "text": [
      "fizzbuzz\n",
      "1\n",
      "2\n",
      "fizz\n",
      "4\n",
      "buzz\n",
      "fizz\n",
      "7\n",
      "8\n",
      "fizz\n",
      "buzz\n",
      "11\n",
      "fizz\n",
      "13\n",
      "14\n",
      "fizzbuzz\n",
      "16\n",
      "17\n",
      "fizz\n",
      "19\n",
      "buzz\n",
      "fizz\n",
      "22\n",
      "23\n",
      "fizz\n",
      "buzz\n",
      "26\n",
      "fizz\n",
      "28\n",
      "29\n",
      "fizzbuzz\n",
      "31\n",
      "32\n",
      "fizz\n",
      "34\n",
      "buzz\n",
      "fizz\n",
      "37\n",
      "38\n",
      "fizz\n",
      "buzz\n",
      "41\n",
      "fizz\n",
      "43\n",
      "44\n",
      "fizzbuzz\n",
      "46\n",
      "47\n",
      "fizz\n",
      "49\n",
      "buzz\n",
      "fizz\n",
      "52\n",
      "53\n",
      "fizz\n",
      "buzz\n",
      "56\n",
      "fizz\n",
      "58\n",
      "59\n",
      "fizzbuzz\n",
      "61\n",
      "62\n",
      "fizz\n",
      "64\n",
      "buzz\n",
      "fizz\n",
      "67\n",
      "68\n",
      "fizz\n",
      "buzz\n",
      "71\n",
      "fizz\n",
      "73\n",
      "74\n",
      "fizzbuzz\n",
      "76\n",
      "77\n",
      "fizz\n",
      "79\n",
      "buzz\n",
      "fizz\n",
      "82\n",
      "83\n",
      "fizz\n",
      "buzz\n",
      "86\n",
      "fizz\n",
      "88\n",
      "89\n",
      "fizzbuzz\n",
      "91\n",
      "92\n",
      "fizz\n",
      "94\n",
      "buzz\n",
      "fizz\n",
      "97\n",
      "98\n",
      "fizz\n"
     ]
    }
   ],
   "source": [
    "# Skriv funksjonen her:\n",
    "def fizzbuzz(n):\n",
    "    if n % 3 == 0 and n % 5 == 0:\n",
    "        return \"fizzbuzz\"\n",
    "    elif n % 3 == 0:\n",
    "        return \"fizz\"\n",
    "    elif n % 5 == 0:\n",
    "        return \"buzz\"\n",
    "    else:\n",
    "        return n\n",
    "# Bruk en loop over en range, og kjør fizzbuzz for de første 100 tallene fom. 0\n",
    "for x in range(100):\n",
    "    print(fizzbuzz(x))"
   ]
  },
  {
   "cell_type": "code",
   "execution_count": null,
   "metadata": {},
   "outputs": [],
   "source": []
  }
 ],
 "metadata": {
  "kernelspec": {
   "display_name": "pygame_forskningskvelden",
   "language": "python",
   "name": "python3"
  },
  "language_info": {
   "codemirror_mode": {
    "name": "ipython",
    "version": 3
   },
   "file_extension": ".py",
   "mimetype": "text/x-python",
   "name": "python",
   "nbconvert_exporter": "python",
   "pygments_lexer": "ipython3",
   "version": "3.9.18"
  },
  "orig_nbformat": 4
 },
 "nbformat": 4,
 "nbformat_minor": 2
}
