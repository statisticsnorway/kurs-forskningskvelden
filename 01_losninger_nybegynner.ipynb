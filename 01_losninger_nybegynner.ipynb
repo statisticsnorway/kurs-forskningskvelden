{
 "cells": [
  {
   "cell_type": "markdown",
   "metadata": {},
   "source": [
    "### Løsningsforslag - Nybegynneroppgaver\n",
    "Bli kjent med programmeringsspråket Python med disse oppgavene.\\\n",
    "Se etter **#?** for å finne steder det er meningen at du skal bytte ut med egen kode.\\\n",
    "Kjør cellene ved å markere dem med musen og trykke shift+enter for å kjøre dem."
   ]
  },
  {
   "cell_type": "code",
   "execution_count": null,
   "metadata": {},
   "outputs": [],
   "source": [
    "# Modifiser koden under til å printe ut det du ønsker (endre koden)\n",
    "print(\"Hello world\")"
   ]
  },
  {
   "cell_type": "code",
   "execution_count": null,
   "metadata": {},
   "outputs": [],
   "source": [
    "# Finn ut hva 7 * 54 er\n",
    "7*54"
   ]
  },
  {
   "cell_type": "code",
   "execution_count": null,
   "metadata": {},
   "outputs": [],
   "source": [
    "# Legg noe i variabelen \"a\" og print a (endre koden)\n",
    "a = 42\n",
    "print(a)"
   ]
  },
  {
   "cell_type": "code",
   "execution_count": null,
   "metadata": {},
   "outputs": [],
   "source": [
    "# Spør brukeren om ett tall, så gjør noe med verdien (endre fra linje to)\n",
    "b = int(input(\"Skriv inn et tall: \"))\n",
    "b"
   ]
  },
  {
   "cell_type": "code",
   "execution_count": null,
   "metadata": {},
   "outputs": [],
   "source": [
    "# Sjekk datatypen til variabelen a eller b ved å bruke funksjonen type()\n",
    "print(type(a), type(b))\n",
    "# Hvilke ulike datatyper kan du få type() til å returnere? Kan du lage en float (desimaltall) feks?\n",
    "print(type(\"Hallo world\"))\n",
    "print(type(5.0))\n",
    "print(type(5))\n",
    "print(type(True))\")"
   ]
  },
  {
   "cell_type": "code",
   "execution_count": null,
   "metadata": {},
   "outputs": [],
   "source": [
    "# To dypere datatyper - lister og dicts\n",
    "liste = [1, 2, 3, 4, 5]"
   ]
  },
  {
   "cell_type": "code",
   "execution_count": null,
   "metadata": {},
   "outputs": [],
   "source": [
    "# dictionary\n",
    "kodeverk = {\"01\": \"kvinne\",\n",
    "            \"02\": \"mann\"}\n",
    "# Slå opp en av verdiene\n",
    "kodeverk[\"01\"]"
   ]
  },
  {
   "cell_type": "code",
   "execution_count": null,
   "metadata": {},
   "outputs": [],
   "source": [
    "# if-statements = \n",
    "if b > 5:\n",
    "    print(\"b er større enn 5\")\n",
    "else:\n",
    "    print(\"b er ikke større enn 5\")"
   ]
  },
  {
   "cell_type": "code",
   "execution_count": null,
   "metadata": {},
   "outputs": [],
   "source": [
    "# loops gjør at vi kan gjøre det samme mange ganger\n",
    "for i in range(40):\n",
    "    print(i)"
   ]
  },
  {
   "cell_type": "code",
   "execution_count": null,
   "metadata": {},
   "outputs": [],
   "source": [
    "# comprehensions - En loop inni en liste, med en liste som mål\n",
    "c = [i for i in range(10)]\n",
    "print(c)"
   ]
  },
  {
   "cell_type": "code",
   "execution_count": null,
   "metadata": {},
   "outputs": [],
   "source": [
    "# Skriv en funksjon - fizzbuzz - finn resten av deling med % (modulus operatoren)\n",
    "def fizzbuzz(n):\n",
    "    if n % 3 == 0 and n % 5 == 0:\n",
    "        return \"fizzbuzz\"\n",
    "    elif n % 3 == 0:\n",
    "        return \"fizz\"\n",
    "    elif n % 5 == 0:\n",
    "        return \"buzz\"\n",
    "    else:\n",
    "        return n\n",
    "fizzbuzz(100)"
   ]
  }
 ],
 "metadata": {
  "language_info": {
   "codemirror_mode": {
    "name": "ipython"
   },
   "file_extension": ".py",
   "mimetype": "text/x-python",
   "name": "python",
   "nbconvert_exporter": "python"
  }
 },
 "nbformat": 4,
 "nbformat_minor": 4
}
